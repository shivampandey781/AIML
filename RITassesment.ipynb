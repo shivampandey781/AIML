{
  "cells": [
    {
      "cell_type": "markdown",
      "metadata": {
        "id": "view-in-github",
        "colab_type": "text"
      },
      "source": [
        "<a href=\"https://colab.research.google.com/github/shivampandey781/fullcode/blob/main/RITassesment.ipynb\" target=\"_parent\"><img src=\"https://colab.research.google.com/assets/colab-badge.svg\" alt=\"Open In Colab\"/></a>"
      ]
    },
    {
      "cell_type": "code",
      "source": [
        "a=[2,3,7,2]\n",
        "print(\"a =\",a)"
      ],
      "metadata": {
        "id": "mp61nI8x0biW",
        "outputId": "73e60187-fcc3-4989-e03f-0e750f527339",
        "colab": {
          "base_uri": "https://localhost:8080/"
        }
      },
      "execution_count": 1,
      "outputs": [
        {
          "output_type": "stream",
          "name": "stdout",
          "text": [
            "a = [2, 3, 7, 2]\n"
          ]
        }
      ]
    },
    {
      "cell_type": "code",
      "source": [
        "A=[[1,3,7,2],[5,8,-9,0],[6,-7,11,12]]\n",
        "print(\"A =\",A)"
      ],
      "metadata": {
        "id": "tvZrtIkS1Cf4",
        "outputId": "dec5bcb8-199c-489c-c741-93969f1a3ba4",
        "colab": {
          "base_uri": "https://localhost:8080/"
        }
      },
      "execution_count": 4,
      "outputs": [
        {
          "output_type": "stream",
          "name": "stdout",
          "text": [
            "A = [[1, 3, 7, 2], [5, 8, -9, 0], [6, -7, 11, 12]]\n"
          ]
        }
      ]
    },
    {
      "cell_type": "code",
      "source": [
        "import numpy as np\n",
        "\n",
        "a=np.array([[1],[3],[7],[2]])\n",
        "print(\"a =\",a)\n",
        "\n",
        "A = np.array([[1, 3, 7, 2], [5, 8, -9, 0],[6, -7, 11, 12]])\n",
        "print(\"A =\", A)"
      ],
      "metadata": {
        "id": "BQwxO0Ff1nbs",
        "outputId": "0f7331f2-8ec0-425e-8fcb-8f67b473e2fc",
        "colab": {
          "base_uri": "https://localhost:8080/"
        }
      },
      "execution_count": 9,
      "outputs": [
        {
          "output_type": "stream",
          "name": "stdout",
          "text": [
            "a = [[1]\n",
            " [3]\n",
            " [7]\n",
            " [2]]\n",
            "A = [[ 1  3  7  2]\n",
            " [ 5  8 -9  0]\n",
            " [ 6 -7 11 12]]\n"
          ]
        }
      ]
    },
    {
      "cell_type": "code",
      "source": [
        "import numpy as np\n",
        "a = np.array([[1],[3],[7],[2]])\n",
        "print(\"a =\", a) \n",
        "\n",
        "A = np.matrix([[1, 3, 7, 2], [5, 8, -9, 0],[6, -7, 11, 12]])\n",
        "print(\"A =\", A)"
      ],
      "metadata": {
        "id": "weJzgQ902FJG",
        "outputId": "6c718abd-2431-49d0-d964-5760b1226fe4",
        "colab": {
          "base_uri": "https://localhost:8080/"
        }
      },
      "execution_count": 10,
      "outputs": [
        {
          "output_type": "stream",
          "name": "stdout",
          "text": [
            "a = [[1]\n",
            " [3]\n",
            " [7]\n",
            " [2]]\n",
            "A = [[ 1  3  7  2]\n",
            " [ 5  8 -9  0]\n",
            " [ 6 -7 11 12]]\n"
          ]
        }
      ]
    },
    {
      "cell_type": "code",
      "source": [
        "import numpy as np\n",
        "A = np.matrix([[0, 1], [-2, -3]])\n",
        "B = np.matrix([[1, 0], [3, -2]])\n",
        "C = A + B\n",
        "print(\"A+B =\", C)\n",
        "C = A - B\n",
        "print(\"A-B =\", C)\n",
        "C = A * B\n",
        "print(\"A*B =\", C"
      ],
      "metadata": {
        "id": "YyDjjOVL2vlv",
        "outputId": "24c95764-804f-4355-d11a-a2da81f9c911",
        "colab": {
          "base_uri": "https://localhost:8080/",
          "height": 130
        }
      },
      "execution_count": 11,
      "outputs": [
        {
          "output_type": "error",
          "ename": "SyntaxError",
          "evalue": "ignored",
          "traceback": [
            "\u001b[0;36m  File \u001b[0;32m\"<ipython-input-11-3661d40d8d49>\"\u001b[0;36m, line \u001b[0;32m9\u001b[0m\n\u001b[0;31m    print(\"A*B =\", C\u001b[0m\n\u001b[0m                    ^\u001b[0m\n\u001b[0;31mSyntaxError\u001b[0m\u001b[0;31m:\u001b[0m unexpected EOF while parsing\n"
          ]
        }
      ]
    },
    {
      "cell_type": "code",
      "source": [
        "import numpy as np\n",
        "A = np.array([[0, 1], [-2, -3]])\n",
        "B = np.array([[1, 0], [3, -2]])\n",
        "C = A + B\n",
        "\n",
        "print(\"A+B =\", C)\n",
        "C = A - B\n",
        "\n",
        "print(\"A-B =\", C)\n",
        "C = A * B\n",
        "\n",
        "print(\"A*B =\", C) # Not Working!, only elementwise \n",
        "Multiplication!\n",
        "#Working Alternative 1\n",
        "\n",
        "C = A.dot(B)\n",
        "print(\"A*B =\", C)\n",
        "#Working Alternative 2\n",
        "\n",
        "C = np.dot(A,B)\n",
        "print(\"A*B =\", C)\n",
        "#Working Alternative 3\n",
        "\n",
        "C = np.mat(A) * np.mat(B)\n",
        "print(\"A*B =\", C)\n",
        "#Working Alternative 4\n",
        "\n",
        "C = np.matmul(A,B)\n",
        "print(\"A*B =\", C)"
      ],
      "metadata": {
        "id": "JRkN1dAB29yo",
        "outputId": "eeb31889-f8ce-4a23-a186-f4b8517675d6",
        "colab": {
          "base_uri": "https://localhost:8080/",
          "height": 130
        }
      },
      "execution_count": 12,
      "outputs": [
        {
          "output_type": "error",
          "ename": "SyntaxError",
          "evalue": "ignored",
          "traceback": [
            "\u001b[0;36m  File \u001b[0;32m\"<ipython-input-12-a922e8ee6657>\"\u001b[0;36m, line \u001b[0;32m13\u001b[0m\n\u001b[0;31m    Multiplication!\u001b[0m\n\u001b[0m                  ^\u001b[0m\n\u001b[0;31mSyntaxError\u001b[0m\u001b[0;31m:\u001b[0m invalid syntax\n"
          ]
        }
      ]
    },
    {
      "cell_type": "code",
      "source": [
        "import numpy as np\n",
        "A = np.array([[1, 5, 3], [4, 6, 6],[3, 8, 9]])\n",
        "B = np.array([[1, 5, 3, 4], [4, 5, 7, 8],[7, 8, 9, 3]])\n",
        "C = np.array([[1], [4],[3]])\n",
        "D = np.array([[1, 5, 3]])\n",
        "M = np.matmul(A,B)\n",
        "print(\"M=\", M)\n",
        "\n",
        "#M = np.matmul(B,A) # Not Working!\n",
        "\n",
        "M = np.matmul(A,C)\n",
        "print(\"M=\", M)\n",
        "\n",
        "#M = np.matmul(C,A) # Not Working!\n",
        "M = np.matmul(C,D)\n",
        "print(\"M=\", M)\n",
        "\n",
        "M = np.matmul(D,C)\n",
        "print(\"M=\", M)"
      ],
      "metadata": {
        "id": "B9bHHwU73eQg",
        "outputId": "3c6465b6-c125-4f66-ccaf-f9d4836d275e",
        "colab": {
          "base_uri": "https://localhost:8080/"
        }
      },
      "execution_count": 13,
      "outputs": [
        {
          "output_type": "stream",
          "name": "stdout",
          "text": [
            "M= [[ 42  54  65  53]\n",
            " [ 70  98 108  82]\n",
            " [ 98 127 146 103]]\n",
            "M= [[30]\n",
            " [46]\n",
            " [62]]\n",
            "M= [[ 1  5  3]\n",
            " [ 4 20 12]\n",
            " [ 3 15  9]]\n",
            "M= [[30]]\n"
          ]
        }
      ]
    },
    {
      "cell_type": "code",
      "source": [
        "import numpy as np\n",
        "A = np.array([[1, 3, 7, 2], [5, 8, -9, 0],[6, -7, 11, 12]])\n",
        "print(\"A=\"); print(A)\n",
        "Atr = np.transpose(A)\n",
        "print(\"Transpose of A=\"); print(Atr)\n",
        "B = np.array([[1, 5], [4, 5],[3, 2],[7, 8]])\n",
        "print(\"B=\"); print(B)\n",
        "Btr = np.transpose(B)\n",
        "print(\"Transpose of B=\"); print(Btr)"
      ],
      "metadata": {
        "id": "kcN-PKq23tmw",
        "outputId": "4b4da963-c893-4bf8-d69f-b8ee05ed8afc",
        "colab": {
          "base_uri": "https://localhost:8080/"
        }
      },
      "execution_count": 14,
      "outputs": [
        {
          "output_type": "stream",
          "name": "stdout",
          "text": [
            "A=\n",
            "[[ 1  3  7  2]\n",
            " [ 5  8 -9  0]\n",
            " [ 6 -7 11 12]]\n",
            "Transpose of A=\n",
            "[[ 1  5  6]\n",
            " [ 3  8 -7]\n",
            " [ 7 -9 11]\n",
            " [ 2  0 12]]\n",
            "B=\n",
            "[[1 5]\n",
            " [4 5]\n",
            " [3 2]\n",
            " [7 8]]\n",
            "Transpose of B=\n",
            "[[1 4 3 7]\n",
            " [5 5 2 8]]\n"
          ]
        }
      ]
    },
    {
      "cell_type": "code",
      "source": [
        "import numpy as np\n",
        "import numpy.linalg as la\n",
        "A = np.array([[1, 2], [3, 4]])\n",
        "Adet = la.det(A)\n",
        "print(Adet)\n",
        "B = np.array([[-1, 3, 0],[2, 1, -5],[1, 4, -2]])\n",
        "Bdet = la.det(B)\n",
        "print(Bdet)"
      ],
      "metadata": {
        "id": "6y5_QQOs35xB",
        "outputId": "447a537c-dc9f-43e1-ddd8-907b6aaea891",
        "colab": {
          "base_uri": "https://localhost:8080/"
        }
      },
      "execution_count": 15,
      "outputs": [
        {
          "output_type": "stream",
          "name": "stdout",
          "text": [
            "-2.0000000000000004\n",
            "-21.00000000000001\n"
          ]
        }
      ]
    },
    {
      "cell_type": "code",
      "source": [
        "import numpy as np\n",
        "import numpy.linalg as la\n",
        "A = np.array([[1, 2], \n",
        "[3, 4]])\n",
        "Ainv = la.inv(A)\n",
        "print(Adet)\n",
        "B = np.array([[-1, 3, 0],\n",
        "[2, 1, -5],\n",
        "[1, 4, -2]])\n",
        "Binv = la.inv(B)\n",
        "print(Binv)"
      ],
      "metadata": {
        "id": "I-odjydN4Dvl",
        "outputId": "dec37ad6-b9c0-4551-d456-540f83feb3d9",
        "colab": {
          "base_uri": "https://localhost:8080/"
        }
      },
      "execution_count": 16,
      "outputs": [
        {
          "output_type": "stream",
          "name": "stdout",
          "text": [
            "-2.0000000000000004\n",
            "[[-0.85714286 -0.28571429  0.71428571]\n",
            " [ 0.04761905 -0.0952381   0.23809524]\n",
            " [-0.33333333 -0.33333333  0.33333333]]\n"
          ]
        }
      ]
    },
    {
      "cell_type": "code",
      "source": [
        "import numpy as np\n",
        "import numpy.linalg as la\n",
        "A = np.array([[0, 1], [-2, -3]])\n",
        "Aeig, v = la.eig(A)\n",
        "print(Aeig)"
      ],
      "metadata": {
        "id": "256NV-1S4KNN",
        "outputId": "5e9be4fc-c651-4ac6-9fd2-127c002dbb72",
        "colab": {
          "base_uri": "https://localhost:8080/"
        }
      },
      "execution_count": 17,
      "outputs": [
        {
          "output_type": "stream",
          "name": "stdout",
          "text": [
            "[-1. -2.]\n"
          ]
        }
      ]
    },
    {
      "cell_type": "code",
      "source": [
        "import numpy as np\n",
        "A = np.array([[0, 1], [-2, -3]])\n",
        "B = np.array([[1, 0], [3, -2]])\n",
        "C = np.array([[1, 1], [1, -5]])\n",
        "print(\"AB Not Equal BA\")\n",
        "L = np.matmul(A,B)\n",
        "print(\"L=\");print(L)\n",
        "R = np.matmul(B,A)\n",
        "print(\"R=\");print(R)\n",
        "print(\"A(BC) = (AB)C\")\n",
        "L = np.matmul(A,np.matmul(B,C))\n",
        "print(\"L=\");print(L)\n",
        "R = np.matmul(np.matmul(A,B),C)\n",
        "print(\"R=\");print(R)"
      ],
      "metadata": {
        "id": "VcxpX8gk4WNt",
        "outputId": "ad961822-a4ae-47d3-cc46-d2d0dafdd500",
        "colab": {
          "base_uri": "https://localhost:8080/"
        }
      },
      "execution_count": 18,
      "outputs": [
        {
          "output_type": "stream",
          "name": "stdout",
          "text": [
            "AB Not Equal BA\n",
            "L=\n",
            "[[  3  -2]\n",
            " [-11   6]]\n",
            "R=\n",
            "[[0 1]\n",
            " [4 9]]\n",
            "A(BC) = (AB)C\n",
            "L=\n",
            "[[  1  13]\n",
            " [ -5 -41]]\n",
            "R=\n",
            "[[  1  13]\n",
            " [ -5 -41]]\n"
          ]
        }
      ]
    },
    {
      "cell_type": "code",
      "source": [
        "import numpy as np\n",
        "A = np.array([[0, 1], [-2, -3]])\n",
        "B = np.array([[1, 0], [3, -2]])\n",
        "C = np.array([[1, 1], [1, -5]])\n",
        "print(\"(A+B)C = AC + BC\")\n",
        "L = np.matmul(A+B,C)\n",
        "print(\"L=\");print(L)\n",
        "R = np.matmul(A,C) + np.matmul(B,C)\n",
        "print(\"R=\");print(R)\n",
        "print(\"AA^(-1) = A^(-1)A = I\")\n",
        "L = np.matmul(A, la.inv(A))\n",
        "print(\"L=\");print(L)\n",
        "R = np.matmul(la.inv(A),A)\n",
        "print(\"R=\");print(R)"
      ],
      "metadata": {
        "id": "o7tkjf-O4eF6",
        "outputId": "85400b9b-0e12-44ab-8517-dd5bf98ee01e",
        "colab": {
          "base_uri": "https://localhost:8080/"
        }
      },
      "execution_count": 19,
      "outputs": [
        {
          "output_type": "stream",
          "name": "stdout",
          "text": [
            "(A+B)C = AC + BC\n",
            "L=\n",
            "[[ 2 -4]\n",
            " [-4 26]]\n",
            "R=\n",
            "[[ 2 -4]\n",
            " [-4 26]]\n",
            "AA^(-1) = A^(-1)A = I\n",
            "L=\n",
            "[[1. 0.]\n",
            " [0. 1.]]\n",
            "R=\n",
            "[[1. 0.]\n",
            " [0. 1.]]\n"
          ]
        }
      ]
    },
    {
      "cell_type": "code",
      "source": [
        "import numpy as np\n",
        "import numpy.linalg as la\n",
        "A = np.array([[1, 2], [3, 4]])\n",
        "b = np.array([[5], [6]])\n",
        "Ainv = la.inv(A)\n",
        "x = Ainv.dot(b)\n",
        "print(x)"
      ],
      "metadata": {
        "id": "q7lNwFnW4orN",
        "outputId": "16c14dcd-6496-48e1-81cb-bb01ffb1b096",
        "colab": {
          "base_uri": "https://localhost:8080/"
        }
      },
      "execution_count": 20,
      "outputs": [
        {
          "output_type": "stream",
          "name": "stdout",
          "text": [
            "[[-4. ]\n",
            " [ 4.5]]\n"
          ]
        }
      ]
    },
    {
      "cell_type": "code",
      "source": [
        "import numpy as np\n",
        "A = np.array([[1, 2], [3, 4]])\n",
        "b = np.array([[5], [6]])\n",
        "x = np.linalg.solve(A, b)\n",
        "print(x)"
      ],
      "metadata": {
        "id": "Qsv8FIRT4xL1",
        "outputId": "b165a3df-dba9-4dbe-c817-b32ffdc1c87c",
        "colab": {
          "base_uri": "https://localhost:8080/"
        }
      },
      "execution_count": 21,
      "outputs": [
        {
          "output_type": "stream",
          "name": "stdout",
          "text": [
            "[[-4. ]\n",
            " [ 4.5]]\n"
          ]
        }
      ]
    },
    {
      "cell_type": "code",
      "source": [
        "import numpy as np\n",
        "A = np.array([[1, 2], [3, 4],[7, 8]])\n",
        "b = np.array([[5],[6],[9]])\n",
        "x = np.linalg.lstsq(A, b, rcond=None)[0]\n",
        "print(x)"
      ],
      "metadata": {
        "id": "D1KsA-hH45R9",
        "outputId": "0e973f4e-33ee-417b-86ff-61d159d07c57",
        "colab": {
          "base_uri": "https://localhost:8080/"
        }
      },
      "execution_count": 23,
      "outputs": [
        {
          "output_type": "stream",
          "name": "stdout",
          "text": [
            "[[-3.5       ]\n",
            " [ 4.17857143]]\n"
          ]
        }
      ]
    }
  ],
  "metadata": {
    "colab": {
      "name": "Welcome To Colaboratory",
      "provenance": [],
      "include_colab_link": true
    },
    "kernelspec": {
      "display_name": "Python 3",
      "name": "python3"
    }
  },
  "nbformat": 4,
  "nbformat_minor": 0
}