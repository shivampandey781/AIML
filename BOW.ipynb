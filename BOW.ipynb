{
  "cells": [
    {
      "cell_type": "markdown",
      "metadata": {
        "id": "view-in-github",
        "colab_type": "text"
      },
      "source": [
        "<a href=\"https://colab.research.google.com/github/shivampandey781/AIML/blob/main/BOW.ipynb\" target=\"_parent\"><img src=\"https://colab.research.google.com/assets/colab-badge.svg\" alt=\"Open In Colab\"/></a>"
      ]
    },
    {
      "cell_type": "markdown",
      "source": [
        "### **BAG OF WORDS**"
      ],
      "metadata": {
        "id": "QYMOv5X5tTmm"
      }
    },
    {
      "cell_type": "code",
      "source": [
        "import nltk\n",
        "import re\n",
        "from nltk.stem import PorterStemmer\n",
        "from nltk.stem import WordNetLemmatizer\n",
        "from nltk.corpus import stopwords\n",
        "from sklearn.feature_extraction.text import CountVectorizer\n",
        "nltk.download('punkt')\n",
        "nltk.download('omw-1.4')\n",
        "nltk.download('stopwords')\n",
        "\n",
        "paragraph = \"\"\"The Holy abode of the Hindu God, Shri Ram (addressed so with all respect & humility) is a virtual paradise for the devout. No Hindu's journey is complete without a pilgrimage to both Varanasi and Rameswaram for the culmination of his quest for salvation and is hallowed by the epic 'Ramayana\"\"\"\n",
        "wordnet = WordNetLemmatizer()\n",
        "ps = PorterStemmer()\n",
        "sentence = nltk.sent_tokenize(paragraph)\n",
        "corpus = []\n",
        "for i in range(len(sentence)):\n",
        "  review = re.sub('[`a-z,A-Z]','',sentence[i])\n",
        "  review = review.lower()\n",
        "  review = review.split()\n",
        "  review = [ps.stem(words) for words in review if not words in set (stopwords.words('english'))]\n",
        "  review = ''.join(review)\n",
        "  corpus.append(review)\n",
        "cv = CountVectorizer(max_features=1500)"
      ],
      "metadata": {
        "id": "gimiHUZHnMdE",
        "outputId": "8b8afd2d-0f2b-4c7d-d90d-3cbe725f4f94",
        "colab": {
          "base_uri": "https://localhost:8080/"
        }
      },
      "execution_count": 5,
      "outputs": [
        {
          "output_type": "stream",
          "name": "stderr",
          "text": [
            "[nltk_data] Downloading package punkt to /root/nltk_data...\n",
            "[nltk_data]   Unzipping tokenizers/punkt.zip.\n",
            "[nltk_data] Downloading package omw-1.4 to /root/nltk_data...\n",
            "[nltk_data] Downloading package stopwords to /root/nltk_data...\n",
            "[nltk_data]   Unzipping corpora/stopwords.zip.\n"
          ]
        }
      ]
    }
  ],
  "metadata": {
    "colab": {
      "name": "Welcome To Colaboratory",
      "provenance": [],
      "include_colab_link": true
    },
    "kernelspec": {
      "display_name": "Python 3",
      "name": "python3"
    }
  },
  "nbformat": 4,
  "nbformat_minor": 0
}