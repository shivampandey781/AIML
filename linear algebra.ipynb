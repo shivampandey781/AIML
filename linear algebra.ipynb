{
  "cells": [
    {
      "cell_type": "markdown",
      "metadata": {
        "id": "view-in-github",
        "colab_type": "text"
      },
      "source": [
        "<a href=\"https://colab.research.google.com/github/shivampandey781/fullcode/blob/main/linear%20algebra.ipynb\" target=\"_parent\"><img src=\"https://colab.research.google.com/assets/colab-badge.svg\" alt=\"Open In Colab\"/></a>"
      ]
    },
    {
      "cell_type": "code",
      "source": [
        "a=[2,3,7,2]\n",
        "print(\"a =\",a)"
      ],
      "metadata": {
        "id": "xTZzA9SsS1dF",
        "outputId": "497e3c98-06d2-4e61-d691-a8a6ad5b5dc8",
        "colab": {
          "base_uri": "https://localhost:8080/"
        }
      },
      "execution_count": 1,
      "outputs": [
        {
          "output_type": "stream",
          "name": "stdout",
          "text": [
            "a = [2, 3, 7, 2]\n"
          ]
        }
      ]
    },
    {
      "cell_type": "code",
      "source": [
        "A=[[1,3,7,2],[5,8,-9,0],[6,-7,11,12]]\n",
        "print(\"A =\",A)"
      ],
      "metadata": {
        "id": "qDKht3nlTMNb",
        "outputId": "29d74764-a056-4b97-c31a-97307e22888f",
        "colab": {
          "base_uri": "https://localhost:8080/"
        }
      },
      "execution_count": 2,
      "outputs": [
        {
          "output_type": "stream",
          "name": "stdout",
          "text": [
            "A = [[1, 3, 7, 2], [5, 8, -9, 0], [6, -7, 11, 12]]\n"
          ]
        }
      ]
    },
    {
      "cell_type": "code",
      "source": [
        "import numpy as np\n",
        "\n",
        "a=np.array([[1],[3],[7],[2]])\n",
        "print(\"a =\",a)\n",
        "\n",
        "A = np.array([[1, 3, 7, 2], [5, 8, -9, 0],[6, -7, 11, 12]])\n",
        "print(\"A =\", A)"
      ],
      "metadata": {
        "id": "GSlB4zdITPd_",
        "outputId": "94deaa74-0074-41f8-97ee-70123169c815",
        "colab": {
          "base_uri": "https://localhost:8080/"
        }
      },
      "execution_count": 3,
      "outputs": [
        {
          "output_type": "stream",
          "name": "stdout",
          "text": [
            "a = [[1]\n",
            " [3]\n",
            " [7]\n",
            " [2]]\n",
            "A = [[ 1  3  7  2]\n",
            " [ 5  8 -9  0]\n",
            " [ 6 -7 11 12]]\n"
          ]
        }
      ]
    },
    {
      "cell_type": "code",
      "source": [
        "import numpy as np\n",
        "a = np.array([[1],[3],[7],[2]])\n",
        "print(\"a =\", a) \n",
        "\n",
        "A = np.matrix([[1, 3, 7, 2], [5, 8, -9, 0],[6, -7, 11, 12]])\n",
        "print(\"A =\", A)"
      ],
      "metadata": {
        "id": "VeoNkvttTWhZ",
        "outputId": "e1dba479-b4e6-4ec6-ab7f-47038e34218c",
        "colab": {
          "base_uri": "https://localhost:8080/"
        }
      },
      "execution_count": 4,
      "outputs": [
        {
          "output_type": "stream",
          "name": "stdout",
          "text": [
            "a = [[1]\n",
            " [3]\n",
            " [7]\n",
            " [2]]\n",
            "A = [[ 1  3  7  2]\n",
            " [ 5  8 -9  0]\n",
            " [ 6 -7 11 12]]\n"
          ]
        }
      ]
    },
    {
      "cell_type": "code",
      "source": [
        "import numpy as np\n",
        "A = np.matrix([[0, 1], [-2, -3]])\n",
        "B = np.matrix([[1, 0], [3, -2]])\n",
        "C = A + B\n",
        "print(\"A+B =\", C)\n",
        "C = A - B\n",
        "print(\"A-B =\", C)\n",
        "C = A * B\n",
        "print(\"A*B =\", C)"
      ],
      "metadata": {
        "id": "TVcUBvDETYEC",
        "outputId": "261315f0-1d4f-4ae3-a5d8-4a48f3ef3b63",
        "colab": {
          "base_uri": "https://localhost:8080/"
        }
      },
      "execution_count": 5,
      "outputs": [
        {
          "output_type": "stream",
          "name": "stdout",
          "text": [
            "A+B = [[ 1  1]\n",
            " [ 1 -5]]\n",
            "A-B = [[-1  1]\n",
            " [-5 -1]]\n",
            "A*B = [[  3  -2]\n",
            " [-11   6]]\n"
          ]
        }
      ]
    },
    {
      "cell_type": "code",
      "source": [
        "import numpy as np\n",
        "A = np.array([[0, 1], [-2, -3]])\n",
        "B = np.array([[1, 0], [3, -2]])\n",
        "C = A + B\n",
        "\n",
        "print(\"A+B =\", C)\n",
        "C = A - B\n",
        "\n",
        "print(\"A-B =\", C)\n",
        "C = A * B\n",
        "\n",
        "print(\"A*B =\", C) # Not Working!, only elementwise Multiplication!\n",
        "#Working Alternative 1\n",
        "\n",
        "C = A.dot(B)\n",
        "print(\"A*B =\", C)\n",
        "#Working Alternative 2\n",
        "\n",
        "C = np.dot(A,B)\n",
        "print(\"A*B =\", C)\n",
        "#Working Alternative 3\n",
        "\n",
        "C = np.mat(A) * np.mat(B)\n",
        "print(\"A*B =\", C)\n",
        "#Working Alternative 4\n",
        "\n",
        "C = np.matmul(A,B)\n",
        "print(\"A*B =\", C)"
      ],
      "metadata": {
        "id": "F08NVpj-TcR5",
        "outputId": "f840ee6c-d23e-4407-b10d-28db101dd135",
        "colab": {
          "base_uri": "https://localhost:8080/"
        }
      },
      "execution_count": 6,
      "outputs": [
        {
          "output_type": "stream",
          "name": "stdout",
          "text": [
            "A+B = [[ 1  1]\n",
            " [ 1 -5]]\n",
            "A-B = [[-1  1]\n",
            " [-5 -1]]\n",
            "A*B = [[ 0  0]\n",
            " [-6  6]]\n",
            "A*B = [[  3  -2]\n",
            " [-11   6]]\n",
            "A*B = [[  3  -2]\n",
            " [-11   6]]\n",
            "A*B = [[  3  -2]\n",
            " [-11   6]]\n",
            "A*B = [[  3  -2]\n",
            " [-11   6]]\n"
          ]
        }
      ]
    },
    {
      "cell_type": "code",
      "source": [
        "import numpy as np\n",
        "A = np.array([[1, 5, 3], [4, 6, 6],[3, 8, 9]])\n",
        "B = np.array([[1, 5, 3, 4], [4, 5, 7, 8],[7, 8, 9, 3]])\n",
        "C = np.array([[1], [4],[3]])\n",
        "D = np.array([[1, 5, 3]])\n",
        "M = np.matmul(A,B)\n",
        "print(\"M=\", M)\n",
        "\n",
        "#M = np.matmul(B,A) # Not Working!\n",
        "\n",
        "M = np.matmul(A,C)\n",
        "print(\"M=\", M)\n",
        "\n",
        "#M = np.matmul(C,A) # Not Working!\n",
        "M = np.matmul(C,D)\n",
        "print(\"M=\", M)\n",
        "\n",
        "M = np.matmul(D,C)\n",
        "print(\"M=\", M)"
      ],
      "metadata": {
        "id": "gNPv9jAJT0BA",
        "outputId": "25b8d3e1-2523-4fa3-a6fe-ea1622fe62a8",
        "colab": {
          "base_uri": "https://localhost:8080/"
        }
      },
      "execution_count": 7,
      "outputs": [
        {
          "output_type": "stream",
          "name": "stdout",
          "text": [
            "M= [[ 42  54  65  53]\n",
            " [ 70  98 108  82]\n",
            " [ 98 127 146 103]]\n",
            "M= [[30]\n",
            " [46]\n",
            " [62]]\n",
            "M= [[ 1  5  3]\n",
            " [ 4 20 12]\n",
            " [ 3 15  9]]\n",
            "M= [[30]]\n"
          ]
        }
      ]
    },
    {
      "cell_type": "code",
      "source": [
        "import numpy as np\n",
        "A = np.array([[1, 3, 7, 2], [5, 8, -9, 0],[6, -7, 11, 12]])\n",
        "print(\"A=\"); print(A)\n",
        "Atr = np.transpose(A)\n",
        "print(\"Transpose of A=\"); print(Atr)\n",
        "B = np.array([[1, 5], [4, 5],[3, 2],[7, 8]])\n",
        "print(\"B=\"); print(B)\n",
        "Btr = np.transpose(B)\n",
        "print(\"Transpose of B=\"); print(Btr)"
      ],
      "metadata": {
        "id": "T0lZ5btZT3vt",
        "outputId": "fcdea500-e00a-470b-f00f-d90956662749",
        "colab": {
          "base_uri": "https://localhost:8080/"
        }
      },
      "execution_count": 8,
      "outputs": [
        {
          "output_type": "stream",
          "name": "stdout",
          "text": [
            "A=\n",
            "[[ 1  3  7  2]\n",
            " [ 5  8 -9  0]\n",
            " [ 6 -7 11 12]]\n",
            "Transpose of A=\n",
            "[[ 1  5  6]\n",
            " [ 3  8 -7]\n",
            " [ 7 -9 11]\n",
            " [ 2  0 12]]\n",
            "B=\n",
            "[[1 5]\n",
            " [4 5]\n",
            " [3 2]\n",
            " [7 8]]\n",
            "Transpose of B=\n",
            "[[1 4 3 7]\n",
            " [5 5 2 8]]\n"
          ]
        }
      ]
    },
    {
      "cell_type": "code",
      "source": [
        "import numpy as np\n",
        "import numpy.linalg as la\n",
        "A = np.array([[1, 2], [3, 4]])\n",
        "Adet = la.det(A)\n",
        "print(Adet)\n",
        "B = np.array([[-1, 3, 0],[2, 1, -5],[1, 4, -2]])\n",
        "Bdet = la.det(B)\n",
        "print(Bdet)"
      ],
      "metadata": {
        "id": "CfcxlcjrT6uW",
        "outputId": "f2dc2e97-2c24-4263-b582-8e5e70258b9f",
        "colab": {
          "base_uri": "https://localhost:8080/"
        }
      },
      "execution_count": 9,
      "outputs": [
        {
          "output_type": "stream",
          "name": "stdout",
          "text": [
            "-2.0000000000000004\n",
            "-21.00000000000001\n"
          ]
        }
      ]
    },
    {
      "cell_type": "code",
      "source": [
        "import numpy as np\n",
        "import numpy.linalg as la\n",
        "A = np.array([[1, 2], \n",
        "[3, 4]])\n",
        "Ainv = la.inv(A)\n",
        "print(Adet)\n",
        "B = np.array([[-1, 3, 0],\n",
        "[2, 1, -5],\n",
        "[1, 4, -2]])\n",
        "Binv = la.inv(B)\n",
        "print(Binv)"
      ],
      "metadata": {
        "id": "bT2IVOpeT_J3",
        "outputId": "23fe50a2-2cdd-4543-9734-181b63ddf8a0",
        "colab": {
          "base_uri": "https://localhost:8080/"
        }
      },
      "execution_count": 10,
      "outputs": [
        {
          "output_type": "stream",
          "name": "stdout",
          "text": [
            "-2.0000000000000004\n",
            "[[-0.85714286 -0.28571429  0.71428571]\n",
            " [ 0.04761905 -0.0952381   0.23809524]\n",
            " [-0.33333333 -0.33333333  0.33333333]]\n"
          ]
        }
      ]
    },
    {
      "cell_type": "code",
      "source": [
        "import numpy as np\n",
        "import numpy.linalg as la\n",
        "A = np.array([[0, 1], [-2, -3]])\n",
        "Aeig, v = la.eig(A)\n",
        "print(Aeig)"
      ],
      "metadata": {
        "id": "97URToI0UCWf",
        "outputId": "826b1a3a-b16f-4752-d852-c140b0bd875b",
        "colab": {
          "base_uri": "https://localhost:8080/"
        }
      },
      "execution_count": 11,
      "outputs": [
        {
          "output_type": "stream",
          "name": "stdout",
          "text": [
            "[-1. -2.]\n"
          ]
        }
      ]
    },
    {
      "cell_type": "code",
      "source": [
        "import numpy as np\n",
        "A = np.array([[0, 1], [-2, -3]])\n",
        "B = np.array([[1, 0], [3, -2]])\n",
        "C = np.array([[1, 1], [1, -5]])\n",
        "print(\"AB Not Equal BA\")\n",
        "L = np.matmul(A,B)\n",
        "print(\"L=\");print(L)\n",
        "R = np.matmul(B,A)\n",
        "print(\"R=\");print(R)\n",
        "print(\"A(BC) = (AB)C\")\n",
        "L = np.matmul(A,np.matmul(B,C))\n",
        "print(\"L=\");print(L)\n",
        "R = np.matmul(np.matmul(A,B),C)\n",
        "print(\"R=\");print(R)"
      ],
      "metadata": {
        "id": "p6_YrXFQUFZO",
        "outputId": "7033924c-5e77-4afa-f093-b01266a044f3",
        "colab": {
          "base_uri": "https://localhost:8080/"
        }
      },
      "execution_count": 12,
      "outputs": [
        {
          "output_type": "stream",
          "name": "stdout",
          "text": [
            "AB Not Equal BA\n",
            "L=\n",
            "[[  3  -2]\n",
            " [-11   6]]\n",
            "R=\n",
            "[[0 1]\n",
            " [4 9]]\n",
            "A(BC) = (AB)C\n",
            "L=\n",
            "[[  1  13]\n",
            " [ -5 -41]]\n",
            "R=\n",
            "[[  1  13]\n",
            " [ -5 -41]]\n"
          ]
        }
      ]
    },
    {
      "cell_type": "code",
      "source": [
        "import numpy as np\n",
        "A = np.array([[0, 1], [-2, -3]])\n",
        "B = np.array([[1, 0], [3, -2]])\n",
        "C = np.array([[1, 1], [1, -5]])\n",
        "print(\"(A+B)C = AC + BC\")\n",
        "L = np.matmul(A+B,C)\n",
        "print(\"L=\");print(L)\n",
        "R = np.matmul(A,C) + np.matmul(B,C)\n",
        "print(\"R=\");print(R)\n",
        "print(\"AA^(-1) = A^(-1)A = I\")\n",
        "L = np.matmul(A, la.inv(A))\n",
        "print(\"L=\");print(L)\n",
        "R = np.matmul(la.inv(A),A)\n",
        "print(\"R=\");print(R)"
      ],
      "metadata": {
        "id": "Xn5X0S8EUIxV",
        "outputId": "a1f889bb-21df-459a-c04b-7d5efc4f09b5",
        "colab": {
          "base_uri": "https://localhost:8080/"
        }
      },
      "execution_count": 13,
      "outputs": [
        {
          "output_type": "stream",
          "name": "stdout",
          "text": [
            "(A+B)C = AC + BC\n",
            "L=\n",
            "[[ 2 -4]\n",
            " [-4 26]]\n",
            "R=\n",
            "[[ 2 -4]\n",
            " [-4 26]]\n",
            "AA^(-1) = A^(-1)A = I\n",
            "L=\n",
            "[[1. 0.]\n",
            " [0. 1.]]\n",
            "R=\n",
            "[[1. 0.]\n",
            " [0. 1.]]\n"
          ]
        }
      ]
    },
    {
      "cell_type": "code",
      "source": [
        "import numpy as np\n",
        "import numpy.linalg as la\n",
        "A = np.array([[1, 2], [3, 4]])\n",
        "b = np.array([[5], [6]])\n",
        "Ainv = la.inv(A)\n",
        "x = Ainv.dot(b)\n",
        "print(x)"
      ],
      "metadata": {
        "id": "-0Qbhk1HUMiM",
        "outputId": "c591d997-3feb-43ba-c108-62769182e5cd",
        "colab": {
          "base_uri": "https://localhost:8080/"
        }
      },
      "execution_count": 14,
      "outputs": [
        {
          "output_type": "stream",
          "name": "stdout",
          "text": [
            "[[-4. ]\n",
            " [ 4.5]]\n"
          ]
        }
      ]
    },
    {
      "cell_type": "code",
      "source": [
        "import numpy as np\n",
        "A = np.array([[1, 2], [3, 4]])\n",
        "b = np.array([[5], [6]])\n",
        "x = np.linalg.solve(A, b)\n",
        "print(x)"
      ],
      "metadata": {
        "id": "l55OWSqzUQZV",
        "outputId": "cfd24f61-134d-4f06-a5ca-c8f13adf7c30",
        "colab": {
          "base_uri": "https://localhost:8080/"
        }
      },
      "execution_count": 15,
      "outputs": [
        {
          "output_type": "stream",
          "name": "stdout",
          "text": [
            "[[-4. ]\n",
            " [ 4.5]]\n"
          ]
        }
      ]
    },
    {
      "cell_type": "code",
      "source": [
        "import numpy as np\n",
        "A = np.array([[1, 2], [3, 4],[7, 8]])\n",
        "b = np.array([[5],[6],[9]])\n",
        "x = np.linalg.lstsq(A, b, rcond=None)[0]\n",
        "print(x)"
      ],
      "metadata": {
        "id": "xWZNWdiuUVTW",
        "outputId": "b82706a5-cf6e-41a6-ef6c-f995e72df92d",
        "colab": {
          "base_uri": "https://localhost:8080/"
        }
      },
      "execution_count": 16,
      "outputs": [
        {
          "output_type": "stream",
          "name": "stdout",
          "text": [
            "[[-3.5       ]\n",
            " [ 4.17857143]]\n"
          ]
        }
      ]
    }
  ],
  "metadata": {
    "colab": {
      "name": "Welcome To Colaboratory",
      "toc_visible": true,
      "provenance": [],
      "include_colab_link": true
    },
    "kernelspec": {
      "display_name": "Python 3",
      "name": "python3"
    }
  },
  "nbformat": 4,
  "nbformat_minor": 0
}